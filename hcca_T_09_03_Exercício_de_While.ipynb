{
  "cells": [
    {
      "cell_type": "markdown",
      "metadata": {
        "id": "view-in-github",
        "colab_type": "text"
      },
      "source": [
        "<a href=\"https://colab.research.google.com/github/hiramaralIA/CETAM_IA_AULAS_PYTHON/blob/main/hcca_T_09_03_Exerc%C3%ADcio_de_While.ipynb\" target=\"_parent\"><img src=\"https://colab.research.google.com/assets/colab-badge.svg\" alt=\"Open In Colab\"/></a>"
      ]
    },
    {
      "cell_type": "markdown",
      "metadata": {
        "id": "ZfPnXfNf8a5t"
      },
      "source": [
        "# Exercícios\n",
        "\n",
        "## 1. Input até o usuário parar\n",
        "\n",
        "Vamos criar um sistema de vendas. Nosso programa deve registrar os produtos e as quantidades (2 inputs) e adicionar em uma lista.\n",
        "\n",
        "O programa deve continuar rodando até o input ser vazio, ou seja, o usuário apertar enter sem digitar nenhum produto ou quantidade.\n",
        "\n",
        "Ao final do programa, ele deve printar todos os produtos e quantidades vendidas.\n",
        "\n",
        "Obs: Caso queira, para o print ficar mais visual, pode usar o join para cada item ser printado em uma linha.\n",
        "Sugestão para sua lista de produtos vendidos:"
      ]
    },
    {
      "cell_type": "raw",
      "metadata": {
        "id": "mmdgj4s08a5w"
      },
      "source": [
        "vendas = [\n",
        "    ['maçã', 5],\n",
        "    ['banana', 15],\n",
        "    ['azeite', 1],\n",
        "    ['vinho', 3],\n",
        "]"
      ]
    },
    {
      "cell_type": "code",
      "execution_count": null,
      "metadata": {
        "id": "HgWrQNSe8a5x"
      },
      "outputs": [],
      "source": [
        "#seu código aqui"
      ]
    },
    {
      "cell_type": "markdown",
      "metadata": {
        "id": "AmSekqye8a5y"
      },
      "source": [
        "### Obs: Podemos fazer o While de 2 maneiras:\n",
        "\n",
        "1. While com a condição que finalize o programa\n",
        "2. While rodando para sempre, mas com uma condição dentro do while que dê um break no código.\n",
        "\n",
        "Vamos mostrar as 2 opções"
      ]
    }
  ],
  "metadata": {
    "kernelspec": {
      "display_name": "Python 3",
      "language": "python",
      "name": "python3"
    },
    "language_info": {
      "codemirror_mode": {
        "name": "ipython",
        "version": 3
      },
      "file_extension": ".py",
      "mimetype": "text/x-python",
      "name": "python",
      "nbconvert_exporter": "python",
      "pygments_lexer": "ipython3",
      "version": "3.8.3"
    },
    "colab": {
      "name": "09.03 Exercício de While.ipynb",
      "provenance": [],
      "include_colab_link": true
    }
  },
  "nbformat": 4,
  "nbformat_minor": 0
}