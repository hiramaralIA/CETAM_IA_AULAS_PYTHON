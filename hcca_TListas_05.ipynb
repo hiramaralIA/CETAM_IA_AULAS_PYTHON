{
  "cells": [
    {
      "cell_type": "markdown",
      "metadata": {
        "id": "view-in-github",
        "colab_type": "text"
      },
      "source": [
        "<a href=\"https://colab.research.google.com/github/hiramaralIA/CETAM_IA_AULAS_PYTHON/blob/main/hcca_TListas_05.ipynb\" target=\"_parent\"><img src=\"https://colab.research.google.com/assets/colab-badge.svg\" alt=\"Open In Colab\"/></a>"
      ]
    },
    {
      "cell_type": "markdown",
      "metadata": {
        "id": "Z4DBZ3xNx2b8"
      },
      "source": [
        "# Algumas Funções Básicas de Lista\n",
        "\n",
        "## Tamanho da Lista\n",
        "\n",
        "tamanho = len(lista)"
      ]
    },
    {
      "cell_type": "code",
      "execution_count": null,
      "metadata": {
        "id": "PaWPUcSIx2cF"
      },
      "outputs": [],
      "source": [
        "produtos = ['apple tv', 'mac', 'iphone x', 'IPad', 'apple watch', 'mac book', 'airpods']"
      ]
    },
    {
      "cell_type": "markdown",
      "metadata": {
        "id": "EdZs29LBx2cH"
      },
      "source": [
        "- Quantos produtos temos a venda?"
      ]
    },
    {
      "cell_type": "code",
      "execution_count": null,
      "metadata": {
        "id": "uI47y5nRx2cI"
      },
      "outputs": [],
      "source": [
        ""
      ]
    },
    {
      "cell_type": "markdown",
      "metadata": {
        "id": "QptPjcAZx2cI"
      },
      "source": [
        "## Maior e Menor Valor\n",
        "\n",
        "maior = max(lista)\n",
        "\n",
        "menor = min(lista)"
      ]
    },
    {
      "cell_type": "code",
      "execution_count": null,
      "metadata": {
        "id": "mpX9QqFMx2cJ"
      },
      "outputs": [],
      "source": [
        "vendas = [1000, 1500, 15000, 270, 900, 100, 1200]"
      ]
    },
    {
      "cell_type": "markdown",
      "metadata": {
        "id": "KEvtSSLKx2cK"
      },
      "source": [
        "- Qual o item mais vendido?\n",
        "- Qual o item menos vendido?"
      ]
    },
    {
      "cell_type": "code",
      "execution_count": null,
      "metadata": {
        "id": "GqUtnDa4x2cL"
      },
      "outputs": [],
      "source": [
        ""
      ]
    }
  ],
  "metadata": {
    "kernelspec": {
      "display_name": "Python 3",
      "language": "python",
      "name": "python3"
    },
    "language_info": {
      "codemirror_mode": {
        "name": "ipython",
        "version": 3
      },
      "file_extension": ".py",
      "mimetype": "text/x-python",
      "name": "python",
      "nbconvert_exporter": "python",
      "pygments_lexer": "ipython3",
      "version": "3.8.3"
    },
    "colab": {
      "name": "Listas 05.ipynb",
      "provenance": [],
      "include_colab_link": true
    }
  },
  "nbformat": 4,
  "nbformat_minor": 0
}