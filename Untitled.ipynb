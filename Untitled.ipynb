{
 "cells": [
  {
   "cell_type": "code",
   "execution_count": null,
   "id": "a1b6c39a",
   "metadata": {},
   "outputs": [
    {
     "name": "stdout",
     "output_type": "stream",
     "text": [
      "Nome: uuu\n",
      "Digite Salario atual: 14000\n",
      "Digite o salário mínimio: 1212\n",
      "============================\n",
      "Parabéns uuu!\n",
      "Bônus = R$2800.0\n",
      "Salario atual = R$16800.0\n",
      "============================\n",
      "Parabéns uuu!\n",
      "Bônus = R$2100.0\n",
      "Salario atual = R$16100.0\n",
      "============================\n"
     ]
    }
   ],
   "source": [
    "for n in range(0, 2):\n",
    "    nome = input(str(\"Nome: \"))\n",
    "    salario = int(input(\"Digite Salario atual: \"))\n",
    "    salario_minimo = int(input(\"Digite o salário mínimio: \"))\n",
    "    print(\"============================\")\n",
    "    if salario < salario_minimo * 3:\n",
    "        bonus = 0.50 * salario\n",
    "        print(f\"Parabéns {nome}!\\nBônus = R${bonus}\\nSalario atual = R${bonus + salario}\")\n",
    "        print(\"============================\")\n",
    "    elif salario > salario_minimo * 3 <= salario_minimo * 10:\n",
    "        bonus = 0.20 * salario\n",
    "        print(f\"Parabéns {nome}!\\nBônus = R${bonus}\\nSalario atual = R${bonus + salario}\")\n",
    "        print(\"============================\")\n",
    "    if salario > salario_minimo * 10 <= salario_minimo * 20:\n",
    "        bonus = 0.15 * salario\n",
    "        print(f\"Parabéns {nome}!\\nBônus = R${bonus}\\nSalario atual = R${bonus + salario}\")\n",
    "        print(\"============================\")\n",
    "    else:\n",
    "        bonus = 0.1* salario\n",
    "        print(f\"Parabéns {nome}!\\nBônus = R${bonus}\\nSalario atual = R${bonus + salario}\")\n",
    "        print(\"============================\")"
   ]
  },
  {
   "cell_type": "code",
   "execution_count": null,
   "id": "8fdcbc8c",
   "metadata": {},
   "outputs": [],
   "source": []
  },
  {
   "cell_type": "code",
   "execution_count": null,
   "id": "ced17514",
   "metadata": {},
   "outputs": [],
   "source": []
  }
 ],
 "metadata": {
  "kernelspec": {
   "display_name": "Python 3 (ipykernel)",
   "language": "python",
   "name": "python3"
  },
  "language_info": {
   "codemirror_mode": {
    "name": "ipython",
    "version": 3
   },
   "file_extension": ".py",
   "mimetype": "text/x-python",
   "name": "python",
   "nbconvert_exporter": "python",
   "pygments_lexer": "ipython3",
   "version": "3.9.7"
  }
 },
 "nbformat": 4,
 "nbformat_minor": 5
}
