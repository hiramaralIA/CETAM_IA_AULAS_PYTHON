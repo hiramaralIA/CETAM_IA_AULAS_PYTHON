{
 "cells": [
  {
   "cell_type": "markdown",
   "metadata": {
    "colab_type": "text",
    "id": "view-in-github"
   },
   "source": [
    "<a href=\"https://colab.research.google.com/github/hiramaralIA/CETAM_IA_AULAS_PYTHON/blob/main/hcca_E_05_04_01_Exerc%C3%ADcios_if.ipynb\" target=\"_parent\"><img src=\"https://colab.research.google.com/assets/colab-badge.svg\" alt=\"Open In Colab\"/></a>"
   ]
  },
  {
   "cell_type": "markdown",
   "metadata": {
    "id": "WUdxFD5ikAad"
   },
   "source": [
    "# Exercícios com if"
   ]
  },
  {
   "cell_type": "markdown",
   "metadata": {
    "id": "T0YyUPGskAam"
   },
   "source": [
    "## 2. Cálculo de bônus com uma nova regra\n",
    "\n",
    "- Agora, crie um novo código que calcule e dê um print no bônus dos funcionários novamente. Porém há uma nova regra nesse 2º caso:\n",
    "\n",
    "A meta é 1000 vendas<br>\n",
    "Agora, os funcionários que venderem muito acima da meta ganham mais bônus do que os outros. Então o bônus é definido da seguinte forma:<br>\n",
    "\n",
    "- Se vendas funcionário for maior ou igual a 2000, então o bônus é de 15% sobre o valor de vendas\n",
    "- Se vendas funcionário for menor do que 2000 e maior ou igual a 1000, então o bônus é de 10% sobre o valor de vendas\n",
    "- Se vendas funcionário for menos do que 1000 então o bônus do funcionário é de 0.\n",
    "\n",
    "Use as mesmas variáveis de vendas_funcionários"
   ]
  },
  {
   "cell_type": "code",
   "execution_count": null,
   "metadata": {
    "id": "LIh784AgkAan"
   },
   "outputs": [],
   "source": [
    "#crie seu código aqui\n",
    "#obs: há 2 formas de fazer, com if dentro de if ou então com if e elif. Escolha a que você preferir\n",
    "\n",
    "vendas_funcionario1 = 1000\n",
    "vendas_funcionario2 = 770\n",
    "vendas_funcionario3 = 2700\n",
    "meta = 1000\n",
    "\n",
    "#crie seu código aqui\n",
    "if vendas_funcionario1 >= meta:\n",
    "    if vendas_funcionario1 >= 2*meta:\n",
    "        bonus = vendas_funcionario1*0.15\n",
    "    else:\n",
    "        bonus = vendas_funcionario1*0.10\n",
    "else:\n",
    "    bonus = 0\n",
    "print(\"O bonus do funcionario 1 foi {} reais\".format(bonus))\n",
    "\n",
    "\n",
    "#para o segundo funcionario\n",
    "\n",
    "if vendas_funcionario1 >= meta:\n",
    "    if vendas_funcionario1 >= 2*meta:\n",
    "        bonus = vendas_funcionario1*0.15\n",
    "    else:\n",
    "        bonus = vendas_funcionario1*0.10\n",
    "else:\n",
    "    bonus = 0\n",
    "print(\"O bonus do funcionario 1 foi {} reais\".format(bonus))\n",
    "\n",
    "\n",
    "\n",
    "\n",
    "# segunda forma de fazer - com elif\n",
    "\n",
    "\n",
    "if vendas_funcionario2 >= 2*meta:\n",
    "    bonus = vendas_funcionario2 * 0.15\n",
    "elif vendas_funcionario2 >= meta:\n",
    "    bonus = vendas_funcionario2 * 0.1\n",
    "else:\n",
    "    bonus = 0\n",
    "print(\"O funcionário 2 ganhou {}\".format(bonus))\n",
    "\n",
    "\n",
    "# igual ao primeiro código\n",
    "\n",
    "if vendas_funcionario3 >= meta:\n",
    "    if vendas_funcionario3 >= 2*meta:\n",
    "        bonus = vendas_funcionario3*0.15\n",
    "    else:\n",
    "        bonus = vendas_funcionario3*0.10\n",
    "else:\n",
    "    bonus = 0\n",
    "print(\"O bonus do funcionario 3 foi {} reais\".format(bonus))"
   ]
  },
  {
   "cell_type": "code",
   "execution_count": 5,
   "metadata": {},
   "outputs": [
    {
     "name": "stdout",
     "output_type": "stream",
     "text": [
      "O bonus do funcionario 1 foi 0 reais\n"
     ]
    }
   ],
   "source": [
    "#crie seu código aqui\n",
    "#obs: há 2 formas de fazer, com if dentro de if ou então com if e elif. Escolha a que você preferir\n",
    "\n",
    "vendas_funcionario1 = 500\n",
    "vendas_funcionario2 = 770\n",
    "vendas_funcionario3 = 2700\n",
    "meta = 1000\n",
    "\n",
    "#crie seu código aqui\n",
    "if vendas_funcionario1 >= meta:\n",
    "    if vendas_funcionario1 >= 2*meta:\n",
    "        bonus = vendas_funcionario1*0.15\n",
    "    else:\n",
    "        bonus = vendas_funcionario1*0.10\n",
    "else:\n",
    "    bonus = 0\n",
    "print(\"O bonus do funcionario 1 foi {} reais\".format(bonus))\n",
    "\n",
    "#crie seu código aqui\n",
    "if vendas_funcionario1 >= meta:\n",
    "    if vendas_funcionario1 >= 2*meta:\n",
    "        bonus = vendas_funcionario1*0.15\n",
    "    else:\n",
    "        bonus = vendas_funcionario1*0.10\n",
    "else:\n",
    "    bonus = 0\n",
    "print(\"O bonus do funcionario 1 foi {} reais\".format(bonus))\n"
   ]
  },
  {
   "cell_type": "raw",
   "metadata": {
    "id": "Zu4tPTCMkAao"
   },
   "source": [
    "Resposta:\n",
    "O funcionário 1 ganhou 100 de bônus\n",
    "O funcionário 2 ganhou 0 de bônus\n",
    "O funcionário 3 ganhou 405 de bônus"
   ]
  },
  {
   "cell_type": "code",
   "execution_count": 9,
   "metadata": {},
   "outputs": [
    {
     "name": "stdout",
     "output_type": "stream",
     "text": [
      "O bonus do funcionario 1 foi 150.0 reais\n",
      "O bonus do funcionario 2 foi 177.0 reais\n"
     ]
    }
   ],
   "source": [
    "#crie seu código aqui\n",
    "vendas_funcionario1 = 1500\n",
    "vendas_funcionario2 = 1770\n",
    "vendas_funcionario3 = 2700\n",
    "meta = 1000\n",
    "\n",
    "\n",
    "if vendas_funcionario1 >= meta:\n",
    "    if vendas_funcionario1 >= 2*meta:\n",
    "        bonus = vendas_funcionario1*0.15\n",
    "    else:\n",
    "        bonus = vendas_funcionario1*0.10\n",
    "else:\n",
    "    bonus = 0\n",
    "print(\"O bonus do funcionario 1 foi {} reais\".format(bonus))\n",
    "\n",
    "\n",
    "if vendas_funcionario2 >= meta:\n",
    "    if vendas_funcionario2 >= 2*meta:\n",
    "        bonus = vendas_funcionario2*0.15\n",
    "    else:\n",
    "        bonus = vendas_funcionario2*0.10\n",
    "else:\n",
    "    bonus = 0\n",
    "print(\"O bonus do funcionario 2 foi {} reais\".format(bonus))"
   ]
  },
  {
   "cell_type": "markdown",
   "metadata": {},
   "source": [
    "###### "
   ]
  }
 ],
 "metadata": {
  "colab": {
   "include_colab_link": true,
   "name": "05.04.01 Exercícios if.ipynb",
   "provenance": []
  },
  "kernelspec": {
   "display_name": "Python 3 (ipykernel)",
   "language": "python",
   "name": "python3"
  },
  "language_info": {
   "codemirror_mode": {
    "name": "ipython",
    "version": 3
   },
   "file_extension": ".py",
   "mimetype": "text/x-python",
   "name": "python",
   "nbconvert_exporter": "python",
   "pygments_lexer": "ipython3",
   "version": "3.9.7"
  }
 },
 "nbformat": 4,
 "nbformat_minor": 1
}
