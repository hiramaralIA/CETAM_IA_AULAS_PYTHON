{
 "cells": [
  {
   "cell_type": "code",
<<<<<<< HEAD
   "execution_count": 2,
   "id": "f0749a91",
=======
   "execution_count": 3,
   "id": "6da5212a",
>>>>>>> 39169ef51299627eec27f1c77274d379261b8ed8
   "metadata": {},
   "outputs": [
    {
     "name": "stdout",
     "output_type": "stream",
     "text": [
      "CINEDEVS\n",
      "Você dejesa comprar seu ingresso? s\n",
      "qual sua idade?\n",
      "34\n",
      "  ESCOLHA UM FILME\n",
      "  De pernas pro Ar 4\n",
      "  40 Sons de flauta\n",
      "  O massacre da serra eletrica\n",
      "  O semitério\n",
      "  Corrida do Macacos\n",
      "  Tá calor em Hollywood\n",
      "  Jennety & Jerry\n",
      "  Eu conheço você? 2\n",
      "  Alice no Pais das Maravilhas\n",
      "  Um Conto de Fadas\n",
      "  Bob Esponja\n",
      "Qual Filme Deseja Assistir? bob esponja\n",
      "BOB ESPONJA\n",
      "Valor inteiro do ingresso R$8.00 \n",
<<<<<<< HEAD
      "Quantidade de ingresso: 5\n",
      "Valor Total R$40.0\n",
      "Pagamento no credito ou no debito?credito\n",
      "insira seu cartão\n",
      "deseja comfirmar a compra? sim\n",
      "Tenha um bom filme\n"
=======
      "Quantidade de ingresso: 3\n",
      "Valor Total R$24.0\n",
      "Pagamento no credito ou no debito?debito\n",
      "digite o seu cartão de 11 digitos\n",
      "6666666666\n",
      "digite sua senha corretamento\n",
      "22222222222\n",
      "compra realizada com sucesso, Tenha um ótimo filme\n"
>>>>>>> 39169ef51299627eec27f1c77274d379261b8ed8
     ]
    }
   ],
   "source": [
    "print ('CINEDEVS')\n",
    "\n",
    "pergunta_1 = input('Você dejesa comprar seu ingresso? ')\n",
    "if pergunta_1 == 's':\n",
    "    print('qual sua idade?')\n",
    "\n",
    "    idade_1 = float(input())                              \n",
    "    if idade_1 >= 18:\n",
    "    \n",
    "        print('  ESCOLHA UM FILME')\n",
    "        print('  De pernas pro Ar 4')\n",
    "        print('  40 Sons de flauta')\n",
    "        print('  O massacre da serra eletrica')\n",
    "        print('  O semitério')\n",
    "        print('  Corrida do Macacos')\n",
    "        print('  Tá calor em Hollywood')\n",
    "        print('  Jennety & Jerry')\n",
    "        print('  Eu conheço você? 2')\n",
    "        print('  Alice no Pais das Maravilhas')\n",
    "        print('  Um Conto de Fadas')\n",
    "        print('  Bob Esponja')                         \n",
    "    elif idade_1 >= 16:\n",
    "        print('  ESCOLHA UM FILME')\n",
    "        print('  O massacre da serra eletrica')\n",
    "        print('  O semitério')\n",
    "        print('  Corrida do Macacos')\n",
    "        print('  Tá calor em Hollywood')\n",
    "        print('  Jennety & Jerry')\n",
    "        print('  Eu conheço você? 2')\n",
    "        print('  Alice no Pais das Maravilhas')\n",
    "        print('  Um Conto de Fadas')\n",
    "        print('  Bob Esponja')\n",
    "    elif idade_1 >= 12:\n",
    "        print('  ESCOLHA UM FILME')\n",
    "        print('  Jennety & Jerry')\n",
    "        print('  Eu conheço você? 2')\n",
    "        print('  Alice no Pais das Maravilhas')\n",
    "        print('  Um Conto de Fadas')\n",
    "        print('  Bob Esponja')\n",
    "    else:\n",
    "        print('  ESCOLHA UM FILME')\n",
    "        print('  Um Conto de Fadas')\n",
    "        print('  Bob Esponja')\n",
    "    \n",
    "    \n",
    "    filme = (input('Qual Filme Deseja Assistir? '))\n",
    "    print(filme.upper())\n",
    "    print ('Valor inteiro do ingresso R$8.00 ') \n",
    "    \n",
    "    \n",
    "    quant  = float(input('Quantidade de ingresso: '))\n",
    "    valor = 8\n",
    "    valor_2 = valor*quant\n",
    "    print ('Valor Total R${}'. format(valor_2))\n",
    "    pagamento = (input('Pagamento no credito ou no debito?'))\n",
    "    if pagamento == 'debito':\n",
    "        print ('digite o seu cartão de 11 digitos')\n",
    "        senha = input()\n",
    "        if len(senha) == 11 and senha.isnumeric():\n",
    "            print(senha)\n",
    "        else:\n",
    "            print('digite sua senha corretamento')\n",
    "            senha_1 = input()\n",
    "        print('compra realizada com sucesso, Tenha um ótimo filme')\n",
    "                  \n",
    "    else:\n",
    "        print ('insira seu cartão') \n",
    "        finalização = input('deseja comfirmar a compra? ')\n",
    "        if finalização == 'sim':\n",
    "            print('Tenha um bom filme')\n",
    "        else:\n",
    "            print('Obrigado pela compreeção')\n",
    "else:\n",
    "    print('Agradeçemos a sua preferencia!')    "
   ]
  },
  {
   "cell_type": "code",
   "execution_count": null,
<<<<<<< HEAD
   "id": "71136536",
=======
   "id": "3d5940c5",
>>>>>>> 39169ef51299627eec27f1c77274d379261b8ed8
   "metadata": {},
   "outputs": [],
   "source": []
  },
  {
   "cell_type": "code",
   "execution_count": null,
<<<<<<< HEAD
   "id": "1342c2c9",
=======
   "id": "05236820",
>>>>>>> 39169ef51299627eec27f1c77274d379261b8ed8
   "metadata": {},
   "outputs": [],
   "source": []
  }
 ],
 "metadata": {
  "kernelspec": {
   "display_name": "Python 3 (ipykernel)",
   "language": "python",
   "name": "python3"
  },
  "language_info": {
   "codemirror_mode": {
    "name": "ipython",
    "version": 3
   },
   "file_extension": ".py",
   "mimetype": "text/x-python",
   "name": "python",
   "nbconvert_exporter": "python",
   "pygments_lexer": "ipython3",
   "version": "3.9.7"
  }
 },
 "nbformat": 4,
 "nbformat_minor": 5
}
